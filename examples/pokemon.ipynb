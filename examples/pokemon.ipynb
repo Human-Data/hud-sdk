{
 "cells": [
  {
   "cell_type": "code",
   "execution_count": 3,
   "metadata": {},
   "outputs": [],
   "source": [
    "from hud.task import Task\n",
    "from hud.types import CustomGym\n",
    "from hud import gym\n",
    "from pathlib import Path\n",
    "import logging\n",
    "\n",
    "logging.basicConfig(level=logging.INFO)"
   ]
  },
  {
   "cell_type": "code",
   "execution_count": null,
   "metadata": {},
   "outputs": [],
   "source": [
    "custom_gym = CustomGym(\n",
    "    image_or_build_context=Path(\"../environments/pokemon_controller\"),\n",
    "    location=\"local\",\n",
    ")\n",
    "\n",
    "task = Task(\n",
    "    gym=custom_gym,\n",
    "    prompt=\"Lets play Pokemon Red\",\n",
    "    setup=(\"setup\", \"pokemon_red\"),\n",
    "    evaluate=\"evaluate\",\n",
    ")\n",
    "\n",
    "env = await gym.make(task)"
   ]
  },
  {
   "cell_type": "code",
   "execution_count": null,
   "metadata": {},
   "outputs": [],
   "source": [
    "from hud.agent import ClaudePlaysPokemon\n",
    "from hud.utils.telemetry import display_screenshot\n",
    "\n",
    "agent = ClaudePlaysPokemon()\n",
    "\n",
    "obs, _ = await env.reset()\n",
    "print(f\"Initial observation complete\")\n",
    "\n",
    "# Agent loop\n",
    "for i in range(10):\n",
    "    print(f\"========= Step {i + 1} =========\")\n",
    "    action, done = await agent.predict(obs)\n",
    "    print(f\"Agent's action: {action}\")\n",
    "\n",
    "    if done:\n",
    "        print(\"done\")\n",
    "        break\n",
    "\n",
    "    obs, reward, terminated, info = await env.step(action)\n",
    "\n",
    "    if terminated:\n",
    "        print(\"terminated\")\n",
    "        break\n",
    "\n",
    "    print(obs.text)\n",
    "    display_screenshot(obs.screenshot, width=160, height=144)"
   ]
  },
  {
   "cell_type": "code",
   "execution_count": null,
   "metadata": {},
   "outputs": [],
   "source": [
    "await env.evaluate()"
   ]
  },
  {
   "cell_type": "code",
   "execution_count": 7,
   "metadata": {},
   "outputs": [],
   "source": [
    "await env.close()"
   ]
  }
 ],
 "metadata": {
  "kernelspec": {
   "display_name": "sdk-dev",
   "language": "python",
   "name": "python3"
  },
  "language_info": {
   "codemirror_mode": {
    "name": "ipython",
    "version": 3
   },
   "file_extension": ".py",
   "mimetype": "text/x-python",
   "name": "python",
   "nbconvert_exporter": "python",
   "pygments_lexer": "ipython3",
   "version": "3.12.9"
  }
 },
 "nbformat": 4,
 "nbformat_minor": 2
}
